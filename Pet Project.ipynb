{
 "cells": [
  {
   "cell_type": "code",
   "execution_count": 40,
   "id": "755fbb61",
   "metadata": {},
   "outputs": [],
   "source": [
    "import pandas as pd"
   ]
  },
  {
   "cell_type": "code",
   "execution_count": 41,
   "id": "4315345b",
   "metadata": {},
   "outputs": [],
   "source": [
    "import matplotlib.pyplot as plt"
   ]
  },
  {
   "cell_type": "code",
   "execution_count": 42,
   "id": "3f46a38b",
   "metadata": {},
   "outputs": [],
   "source": [
    "%matplotlib inline"
   ]
  },
  {
   "cell_type": "code",
   "execution_count": 43,
   "id": "81ffc459",
   "metadata": {},
   "outputs": [],
   "source": [
    "df = pd.read_excel('candles pop.xlsx')"
   ]
  },
  {
   "cell_type": "code",
   "execution_count": 44,
   "id": "0c5d3fc9",
   "metadata": {},
   "outputs": [
    {
     "data": {
      "text/html": [
       "<div>\n",
       "<style scoped>\n",
       "    .dataframe tbody tr th:only-of-type {\n",
       "        vertical-align: middle;\n",
       "    }\n",
       "\n",
       "    .dataframe tbody tr th {\n",
       "        vertical-align: top;\n",
       "    }\n",
       "\n",
       "    .dataframe thead th {\n",
       "        text-align: right;\n",
       "    }\n",
       "</style>\n",
       "<table border=\"1\" class=\"dataframe\">\n",
       "  <thead>\n",
       "    <tr style=\"text-align: right;\">\n",
       "      <th></th>\n",
       "      <th>Название свечи</th>\n",
       "      <th>Аромат свечи</th>\n",
       "      <th>Объем свечи</th>\n",
       "      <th>Цена свечи</th>\n",
       "      <th>Количество проданных свечей</th>\n",
       "    </tr>\n",
       "  </thead>\n",
       "  <tbody>\n",
       "    <tr>\n",
       "      <th>0</th>\n",
       "      <td>Apple pie</td>\n",
       "      <td>Яблочный пирог</td>\n",
       "      <td>100</td>\n",
       "      <td>1050</td>\n",
       "      <td>134</td>\n",
       "    </tr>\n",
       "    <tr>\n",
       "      <th>1</th>\n",
       "      <td>Evening by the fireplace</td>\n",
       "      <td>Мед, ладан</td>\n",
       "      <td>100</td>\n",
       "      <td>1050</td>\n",
       "      <td>107</td>\n",
       "    </tr>\n",
       "    <tr>\n",
       "      <th>2</th>\n",
       "      <td>Moon shot</td>\n",
       "      <td>Мята, зеленый чай</td>\n",
       "      <td>100</td>\n",
       "      <td>1050</td>\n",
       "      <td>122</td>\n",
       "    </tr>\n",
       "    <tr>\n",
       "      <th>3</th>\n",
       "      <td>Lazy morning</td>\n",
       "      <td>Хлопок</td>\n",
       "      <td>100</td>\n",
       "      <td>1050</td>\n",
       "      <td>95</td>\n",
       "    </tr>\n",
       "    <tr>\n",
       "      <th>4</th>\n",
       "      <td>Just for boys</td>\n",
       "      <td>Морская соль, апельсин</td>\n",
       "      <td>100</td>\n",
       "      <td>1050</td>\n",
       "      <td>64</td>\n",
       "    </tr>\n",
       "  </tbody>\n",
       "</table>\n",
       "</div>"
      ],
      "text/plain": [
       "             Название свечи            Аромат свечи  Объем свечи  Цена свечи  \\\n",
       "0                 Apple pie          Яблочный пирог          100        1050   \n",
       "1  Evening by the fireplace              Мед, ладан          100        1050   \n",
       "2                 Moon shot       Мята, зеленый чай          100        1050   \n",
       "3              Lazy morning                  Хлопок          100        1050   \n",
       "4             Just for boys  Морская соль, апельсин          100        1050   \n",
       "\n",
       "   Количество проданных свечей  \n",
       "0                          134  \n",
       "1                          107  \n",
       "2                          122  \n",
       "3                           95  \n",
       "4                           64  "
      ]
     },
     "execution_count": 44,
     "metadata": {},
     "output_type": "execute_result"
    }
   ],
   "source": [
    "df.head()"
   ]
  },
  {
   "cell_type": "code",
   "execution_count": 45,
   "id": "1707bec3",
   "metadata": {},
   "outputs": [
    {
     "name": "stdout",
     "output_type": "stream",
     "text": [
      "<class 'pandas.core.frame.DataFrame'>\n",
      "RangeIndex: 16 entries, 0 to 15\n",
      "Data columns (total 5 columns):\n",
      " #   Column                       Non-Null Count  Dtype \n",
      "---  ------                       --------------  ----- \n",
      " 0   Название свечи               16 non-null     object\n",
      " 1   Аромат свечи                 16 non-null     object\n",
      " 2   Объем свечи                  16 non-null     int64 \n",
      " 3   Цена свечи                   16 non-null     int64 \n",
      " 4   Количество проданных свечей  16 non-null     int64 \n",
      "dtypes: int64(3), object(2)\n",
      "memory usage: 768.0+ bytes\n"
     ]
    }
   ],
   "source": [
    "df.info()"
   ]
  },
  {
   "cell_type": "code",
   "execution_count": 46,
   "id": "ed7206ed",
   "metadata": {},
   "outputs": [],
   "source": [
    "sales_by_candle_name = df.groupby('Название свечи')['Количество проданных свечей'].sum() \n",
    "# Считаем количество проданных свечей, сгруппированных по названию."
   ]
  },
  {
   "cell_type": "code",
   "execution_count": 47,
   "id": "c857daf5",
   "metadata": {},
   "outputs": [],
   "source": [
    "sales_by_candle_scent = df.groupby('Аромат свечи')['Количество проданных свечей'].sum() \n",
    "# Считаем количество проданных свечей, сгруппированных по аромату."
   ]
  },
  {
   "cell_type": "code",
   "execution_count": 48,
   "id": "a54ecf0d",
   "metadata": {},
   "outputs": [],
   "source": [
    "sales_by_candle_volume = df.groupby('Объем свечи')['Количество проданных свечей'].sum() \n",
    "# Считаем количество проданных свечей, сгруппированных по объему."
   ]
  },
  {
   "cell_type": "code",
   "execution_count": 49,
   "id": "ef08f7dc",
   "metadata": {},
   "outputs": [
    {
     "data": {
      "image/png": "[encoded data removed]",
      "text/plain": [
       "<Figure size 432x288 with 1 Axes>"
      ]
     },
     "metadata": {
      "needs_background": "light"
     },
     "output_type": "display_data"
    }
   ],
   "source": [
    "plt.bar(sales_by_candle_name.index, sales_by_candle_name.values)\n",
    "plt.title('Распределение продаж по названию свечи')\n",
    "plt.xlabel('Название свечи')\n",
    "plt.ylabel('Количество проданных свечей')\n",
    "plt.xticks(rotation=35, ha='right', fontsize=10)\n",
    "plt.show()"
   ]
  },
  {
   "cell_type": "code",
   "execution_count": 50,
   "id": "b91df6cf",
   "metadata": {},
   "outputs": [
    {
     "data": {
      "image/png": "[encoded data removed]",
      "text/plain": [
       "<Figure size 432x288 with 1 Axes>"
      ]
     },
     "metadata": {
      "needs_background": "light"
     },
     "output_type": "display_data"
    }
   ],
   "source": [
    "plt.bar(sales_by_candle_scent.index, sales_by_candle_scent.values)\n",
    "plt.title('Распределение продаж по аромату свечи')\n",
    "plt.xlabel('Аромат свечи')\n",
    "plt.ylabel('Количество проданных свечей')\n",
    "plt.xticks(rotation=35, ha='right', fontsize=10)\n",
    "plt.show()"
   ]
  },
  {
   "cell_type": "code",
   "execution_count": 51,
   "id": "b73fafda",
   "metadata": {},
   "outputs": [
    {
     "data": {
      "image/png": "[encoded data removed]",
      "text/plain": [
       "<Figure size 432x288 with 1 Axes>"
      ]
     },
     "metadata": {
      "needs_background": "light"
     },
     "output_type": "display_data"
    }
   ],
   "source": [
    "plt.bar(sales_by_candle_volume.index, sales_by_candle_volume.values, width=20)\n",
    "plt.title('Распределение продаж по объему свечи')\n",
    "plt.xlabel('Объем свечи')\n",
    "plt.ylabel('Количество проданных свечей')\n",
    "plt.xticks([100, 200], fontsize=10)\n",
    "plt.show()"
   ]
  },
  {
   "cell_type": "code",
   "execution_count": 52,
   "id": "e180a56c",
   "metadata": {},
   "outputs": [],
   "source": [
    "df_2 = pd.read_excel('Данные покупателей.xlsx')"
   ]
  },
  {
   "cell_type": "code",
   "execution_count": 53,
   "id": "6a9d276e",
   "metadata": {},
   "outputs": [],
   "source": [
    "sex_distribution = df_2['Пол'].value_counts(normalize=True)*100 # Получаем распределение покупателей по полу.\n",
    "# Используем normalize=True для вычисления значения в процентах."
   ]
  },
  {
   "cell_type": "code",
   "execution_count": 54,
   "id": "418ab3b0",
   "metadata": {},
   "outputs": [
    {
     "data": {
      "text/plain": [
       "ж    84.862932\n",
       "м    15.137068\n",
       "Name: Пол, dtype: float64"
      ]
     },
     "execution_count": 54,
     "metadata": {},
     "output_type": "execute_result"
    }
   ],
   "source": [
    "sex_distribution"
   ]
  },
  {
   "cell_type": "code",
   "execution_count": 55,
   "id": "5539531e",
   "metadata": {},
   "outputs": [],
   "source": [
    "month_distribution = df_2['Месяц покупки'].value_counts(normalize=True)*100 # Считаем распределение покупок по месяцам."
   ]
  },
  {
   "cell_type": "code",
   "execution_count": 56,
   "id": "21b15892",
   "metadata": {},
   "outputs": [
    {
     "data": {
      "text/plain": [
       "Сентябрь    11.799762\n",
       "Ноябрь      11.144219\n",
       "Январь      10.250298\n",
       "Декабрь     10.190703\n",
       "Февраль      9.356377\n",
       "Март         9.237187\n",
       "Октябрь      9.058403\n",
       "Апрель       7.806913\n",
       "Июнь         6.615018\n",
       "Май          5.959476\n",
       "Август       5.244338\n",
       "Июль         3.337306\n",
       "Name: Месяц покупки, dtype: float64"
      ]
     },
     "execution_count": 56,
     "metadata": {},
     "output_type": "execute_result"
    }
   ],
   "source": [
    "month_distribution"
   ]
  },
  {
   "cell_type": "code",
   "execution_count": 57,
   "id": "dcf92d6a",
   "metadata": {},
   "outputs": [],
   "source": [
    "name_distribution = df_2['Название свечи'].value_counts(normalize=True)*100 # Считаем распределение по названиям."
   ]
  },
  {
   "cell_type": "code",
   "execution_count": 58,
   "id": "49629efe",
   "metadata": {},
   "outputs": [
    {
     "data": {
      "text/plain": [
       "Club love                   16.030989\n",
       "Childhood                   14.779499\n",
       "Apple pie                   13.885578\n",
       "Moon shot                   13.587604\n",
       "Evening by the fireplace    11.680572\n",
       "The sound of rain           11.203814\n",
       "Lazy morning                10.488677\n",
       "Just for boys                8.343266\n",
       "Name: Название свечи, dtype: float64"
      ]
     },
     "execution_count": 58,
     "metadata": {},
     "output_type": "execute_result"
    }
   ],
   "source": [
    "name_distribution"
   ]
  },
  {
   "cell_type": "code",
   "execution_count": 59,
   "id": "2cebb4e7",
   "metadata": {},
   "outputs": [],
   "source": [
    "volume_distribution = df_2['Объем свечи'].value_counts(normalize=True)*100 # Считаем распределение по объему."
   ]
  },
  {
   "cell_type": "code",
   "execution_count": 60,
   "id": "9bc95919",
   "metadata": {},
   "outputs": [
    {
     "data": {
      "text/plain": [
       "100    54.588796\n",
       "200    45.411204\n",
       "Name: Объем свечи, dtype: float64"
      ]
     },
     "execution_count": 60,
     "metadata": {},
     "output_type": "execute_result"
    }
   ],
   "source": [
    "volume_distribution"
   ]
  },
  {
   "cell_type": "code",
   "execution_count": 61,
   "id": "23491329",
   "metadata": {},
   "outputs": [],
   "source": [
    "name_volume_distribution = df_2.groupby(['Название свечи', 'Объем свечи']).size().reset_index(name='Количество покупок') \n",
    "# Считаем распределение по сочетанию названия свечи и объема."
   ]
  },
  {
   "cell_type": "code",
   "execution_count": 62,
   "id": "1bf14b44",
   "metadata": {},
   "outputs": [],
   "source": [
    "name_volume_distribution['Процент покупок'] = name_volume_distribution['Количество покупок']/len(df_2)*100 \n",
    "# Добавляем новый столбец."
   ]
  },
  {
   "cell_type": "code",
   "execution_count": 63,
   "id": "85d3a137",
   "metadata": {},
   "outputs": [],
   "source": [
    "name_volume_distribution = name_volume_distribution.sort_values(by='Процент покупок', ascending=False) \n",
    "# Сортируем по новому столбцу \"Процент покупок\" от большего к меньшему."
   ]
  },
  {
   "cell_type": "code",
   "execution_count": 64,
   "id": "f2710aa7",
   "metadata": {},
   "outputs": [
    {
     "data": {
      "text/html": [
       "<div>\n",
       "<style scoped>\n",
       "    .dataframe tbody tr th:only-of-type {\n",
       "        vertical-align: middle;\n",
       "    }\n",
       "\n",
       "    .dataframe tbody tr th {\n",
       "        vertical-align: top;\n",
       "    }\n",
       "\n",
       "    .dataframe thead th {\n",
       "        text-align: right;\n",
       "    }\n",
       "</style>\n",
       "<table border=\"1\" class=\"dataframe\">\n",
       "  <thead>\n",
       "    <tr style=\"text-align: right;\">\n",
       "      <th></th>\n",
       "      <th>Название свечи</th>\n",
       "      <th>Объем свечи</th>\n",
       "      <th>Количество покупок</th>\n",
       "      <th>Процент покупок</th>\n",
       "    </tr>\n",
       "  </thead>\n",
       "  <tbody>\n",
       "    <tr>\n",
       "      <th>4</th>\n",
       "      <td>Club love</td>\n",
       "      <td>100</td>\n",
       "      <td>156</td>\n",
       "      <td>9.296782</td>\n",
       "    </tr>\n",
       "    <tr>\n",
       "      <th>2</th>\n",
       "      <td>Childhood</td>\n",
       "      <td>100</td>\n",
       "      <td>138</td>\n",
       "      <td>8.224076</td>\n",
       "    </tr>\n",
       "    <tr>\n",
       "      <th>0</th>\n",
       "      <td>Apple pie</td>\n",
       "      <td>100</td>\n",
       "      <td>134</td>\n",
       "      <td>7.985697</td>\n",
       "    </tr>\n",
       "    <tr>\n",
       "      <th>12</th>\n",
       "      <td>Moon shot</td>\n",
       "      <td>100</td>\n",
       "      <td>123</td>\n",
       "      <td>7.330155</td>\n",
       "    </tr>\n",
       "    <tr>\n",
       "      <th>5</th>\n",
       "      <td>Club love</td>\n",
       "      <td>200</td>\n",
       "      <td>113</td>\n",
       "      <td>6.734207</td>\n",
       "    </tr>\n",
       "    <tr>\n",
       "      <th>3</th>\n",
       "      <td>Childhood</td>\n",
       "      <td>200</td>\n",
       "      <td>110</td>\n",
       "      <td>6.555423</td>\n",
       "    </tr>\n",
       "    <tr>\n",
       "      <th>6</th>\n",
       "      <td>Evening by the fireplace</td>\n",
       "      <td>100</td>\n",
       "      <td>108</td>\n",
       "      <td>6.436234</td>\n",
       "    </tr>\n",
       "    <tr>\n",
       "      <th>13</th>\n",
       "      <td>Moon shot</td>\n",
       "      <td>200</td>\n",
       "      <td>105</td>\n",
       "      <td>6.257449</td>\n",
       "    </tr>\n",
       "    <tr>\n",
       "      <th>1</th>\n",
       "      <td>Apple pie</td>\n",
       "      <td>200</td>\n",
       "      <td>99</td>\n",
       "      <td>5.899881</td>\n",
       "    </tr>\n",
       "    <tr>\n",
       "      <th>14</th>\n",
       "      <td>The sound of rain</td>\n",
       "      <td>100</td>\n",
       "      <td>97</td>\n",
       "      <td>5.780691</td>\n",
       "    </tr>\n",
       "    <tr>\n",
       "      <th>10</th>\n",
       "      <td>Lazy morning</td>\n",
       "      <td>100</td>\n",
       "      <td>96</td>\n",
       "      <td>5.721097</td>\n",
       "    </tr>\n",
       "    <tr>\n",
       "      <th>15</th>\n",
       "      <td>The sound of rain</td>\n",
       "      <td>200</td>\n",
       "      <td>91</td>\n",
       "      <td>5.423123</td>\n",
       "    </tr>\n",
       "    <tr>\n",
       "      <th>7</th>\n",
       "      <td>Evening by the fireplace</td>\n",
       "      <td>200</td>\n",
       "      <td>88</td>\n",
       "      <td>5.244338</td>\n",
       "    </tr>\n",
       "    <tr>\n",
       "      <th>11</th>\n",
       "      <td>Lazy morning</td>\n",
       "      <td>200</td>\n",
       "      <td>80</td>\n",
       "      <td>4.767580</td>\n",
       "    </tr>\n",
       "    <tr>\n",
       "      <th>9</th>\n",
       "      <td>Just for boys</td>\n",
       "      <td>200</td>\n",
       "      <td>76</td>\n",
       "      <td>4.529201</td>\n",
       "    </tr>\n",
       "    <tr>\n",
       "      <th>8</th>\n",
       "      <td>Just for boys</td>\n",
       "      <td>100</td>\n",
       "      <td>64</td>\n",
       "      <td>3.814064</td>\n",
       "    </tr>\n",
       "  </tbody>\n",
       "</table>\n",
       "</div>"
      ],
      "text/plain": [
       "              Название свечи  Объем свечи  Количество покупок  Процент покупок\n",
       "4                  Club love          100                 156         9.296782\n",
       "2                  Childhood          100                 138         8.224076\n",
       "0                  Apple pie          100                 134         7.985697\n",
       "12                 Moon shot          100                 123         7.330155\n",
       "5                  Club love          200                 113         6.734207\n",
       "3                  Childhood          200                 110         6.555423\n",
       "6   Evening by the fireplace          100                 108         6.436234\n",
       "13                 Moon shot          200                 105         6.257449\n",
       "1                  Apple pie          200                  99         5.899881\n",
       "14         The sound of rain          100                  97         5.780691\n",
       "10              Lazy morning          100                  96         5.721097\n",
       "15         The sound of rain          200                  91         5.423123\n",
       "7   Evening by the fireplace          200                  88         5.244338\n",
       "11              Lazy morning          200                  80         4.767580\n",
       "9              Just for boys          200                  76         4.529201\n",
       "8              Just for boys          100                  64         3.814064"
      ]
     },
     "execution_count": 64,
     "metadata": {},
     "output_type": "execute_result"
    }
   ],
   "source": [
    "name_volume_distribution"
   ]
  },
  {
   "cell_type": "code",
   "execution_count": 65,
   "id": "a788818e",
   "metadata": {},
   "outputs": [],
   "source": [
    "buyer_sex_characteristicks = df_2.groupby(['Название свечи', 'Объем свечи', 'Пол']).size()\\\n",
    ".reset_index(name='Количество покупок') \n",
    "# Вычисляем количество покупок свечей каждого аромата и объема покупателями в зависимости от пола."
   ]
  },
  {
   "cell_type": "code",
   "execution_count": 66,
   "id": "66b8e9ba",
   "metadata": {},
   "outputs": [],
   "source": [
    "buyer_sex_characteristicks['Доля покупок'] = buyer_sex_characteristicks['Количество покупок']\\\n",
    "/sum(buyer_sex_characteristicks['Количество покупок']) \n",
    "# Добавляем новый столбец в ДФ"
   ]
  },
  {
   "cell_type": "code",
   "execution_count": 67,
   "id": "2083ddbc",
   "metadata": {},
   "outputs": [],
   "source": [
    "buyer_sex_characteristicks['Доля покупок']*=100 # Преобразуем данные нового столбца в проценты"
   ]
  },
  {
   "cell_type": "code",
   "execution_count": 68,
   "id": "d210dfe5",
   "metadata": {
    "scrolled": false
   },
   "outputs": [],
   "source": [
    "buyer_sex_characteristicks = buyer_sex_characteristicks.sort_values(by='Доля покупок', ascending=False) \n",
    "# Сортируем ДФ по убыванию показателя \"Доля покупок\""
   ]
  },
  {
   "cell_type": "code",
   "execution_count": 69,
   "id": "081e1d1e",
   "metadata": {
    "scrolled": true
   },
   "outputs": [
    {
     "data": {
      "text/html": [
       "<div>\n",
       "<style scoped>\n",
       "    .dataframe tbody tr th:only-of-type {\n",
       "        vertical-align: middle;\n",
       "    }\n",
       "\n",
       "    .dataframe tbody tr th {\n",
       "        vertical-align: top;\n",
       "    }\n",
       "\n",
       "    .dataframe thead th {\n",
       "        text-align: right;\n",
       "    }\n",
       "</style>\n",
       "<table border=\"1\" class=\"dataframe\">\n",
       "  <thead>\n",
       "    <tr style=\"text-align: right;\">\n",
       "      <th></th>\n",
       "      <th>Название свечи</th>\n",
       "      <th>Объем свечи</th>\n",
       "      <th>Пол</th>\n",
       "      <th>Количество покупок</th>\n",
       "      <th>Доля покупок</th>\n",
       "    </tr>\n",
       "  </thead>\n",
       "  <tbody>\n",
       "    <tr>\n",
       "      <th>8</th>\n",
       "      <td>Club love</td>\n",
       "      <td>100</td>\n",
       "      <td>ж</td>\n",
       "      <td>137</td>\n",
       "      <td>8.164482</td>\n",
       "    </tr>\n",
       "    <tr>\n",
       "      <th>4</th>\n",
       "      <td>Childhood</td>\n",
       "      <td>100</td>\n",
       "      <td>ж</td>\n",
       "      <td>122</td>\n",
       "      <td>7.270560</td>\n",
       "    </tr>\n",
       "    <tr>\n",
       "      <th>0</th>\n",
       "      <td>Apple pie</td>\n",
       "      <td>100</td>\n",
       "      <td>ж</td>\n",
       "      <td>110</td>\n",
       "      <td>6.555423</td>\n",
       "    </tr>\n",
       "    <tr>\n",
       "      <th>24</th>\n",
       "      <td>Moon shot</td>\n",
       "      <td>100</td>\n",
       "      <td>ж</td>\n",
       "      <td>107</td>\n",
       "      <td>6.376639</td>\n",
       "    </tr>\n",
       "    <tr>\n",
       "      <th>10</th>\n",
       "      <td>Club love</td>\n",
       "      <td>200</td>\n",
       "      <td>ж</td>\n",
       "      <td>98</td>\n",
       "      <td>5.840286</td>\n",
       "    </tr>\n",
       "  </tbody>\n",
       "</table>\n",
       "</div>"
      ],
      "text/plain": [
       "   Название свечи  Объем свечи Пол  Количество покупок  Доля покупок\n",
       "8       Club love          100   ж                 137      8.164482\n",
       "4       Childhood          100   ж                 122      7.270560\n",
       "0       Apple pie          100   ж                 110      6.555423\n",
       "24      Moon shot          100   ж                 107      6.376639\n",
       "10      Club love          200   ж                  98      5.840286"
      ]
     },
     "execution_count": 69,
     "metadata": {},
     "output_type": "execute_result"
    }
   ],
   "source": [
    "buyer_sex_characteristicks.head()"
   ]
  },
  {
   "cell_type": "code",
   "execution_count": 70,
   "id": "33c76db6",
   "metadata": {},
   "outputs": [],
   "source": [
    "# Исходя из проведенного анализа можно сделать множество выводов, например: \n",
    "# на какую аудиторию ориенитроваться при планировании рекламной кампании;\n",
    "# какие ароматы продаются лучше остальных, какие материалы для изготовления должны быть закуплены в большем количестве;\n",
    "# в какое время года товар наиболее актуален;\n",
    "#\n",
    "# Файл продолжает дополняться, в будущем при сборе достаточных данных будет также проведен RFM анализ."
   ]
  }
 ],
 "metadata": {
  "kernelspec": {
   "display_name": "Python 3 (ipykernel)",
   "language": "python",
   "name": "python3"
  },
  "language_info": {
   "codemirror_mode": {
    "name": "ipython",
    "version": 3
   },
   "file_extension": ".py",
   "mimetype": "text/x-python",
   "name": "python",
   "nbconvert_exporter": "python",
   "pygments_lexer": "ipython3",
   "version": "3.9.12"
  }
 },
 "nbformat": 4,
 "nbformat_minor": 5
}
