{
 "cells": [
  {
   "cell_type": "code",
   "execution_count": 119,
   "id": "72be9954",
   "metadata": {},
   "outputs": [],
   "source": [
    "# Для конфиденциальности заменил название авиакомпании на \"...\""
   ]
  },
  {
   "cell_type": "code",
   "execution_count": 120,
   "id": "d312dd2c",
   "metadata": {},
   "outputs": [],
   "source": [
    "import os"
   ]
  },
  {
   "cell_type": "code",
   "execution_count": 121,
   "id": "ddc11c70",
   "metadata": {},
   "outputs": [],
   "source": [
    "import pandas as pd"
   ]
  },
  {
   "cell_type": "code",
   "execution_count": 122,
   "id": "dbdbefee",
   "metadata": {},
   "outputs": [],
   "source": [
    "import matplotlib.pyplot as plt"
   ]
  },
  {
   "cell_type": "code",
   "execution_count": 123,
   "id": "cbb348ca",
   "metadata": {},
   "outputs": [],
   "source": [
    "import numpy as np"
   ]
  },
  {
   "cell_type": "code",
   "execution_count": 124,
   "id": "5cce2ee6",
   "metadata": {},
   "outputs": [],
   "source": [
    "import seaborn as sns"
   ]
  },
  {
   "cell_type": "code",
   "execution_count": 125,
   "id": "b382f344",
   "metadata": {},
   "outputs": [],
   "source": [
    "from openpyxl import load_workbook"
   ]
  },
  {
   "cell_type": "code",
   "execution_count": 126,
   "id": "5a593bc5",
   "metadata": {},
   "outputs": [],
   "source": [
    "df_2011 = pd.read_excel('exc.xlsx', sheet_name='авиабилеты 2011')"
   ]
  },
  {
   "cell_type": "code",
   "execution_count": 127,
   "id": "9c390259",
   "metadata": {},
   "outputs": [],
   "source": [
    "df_2012 = pd.read_excel('exc.xlsx', sheet_name='авиабилеты 2012')"
   ]
  },
  {
   "cell_type": "code",
   "execution_count": 128,
   "id": "856b2c6c",
   "metadata": {},
   "outputs": [
    {
     "data": {
      "text/html": [
       "<div>\n",
       "<style scoped>\n",
       "    .dataframe tbody tr th:only-of-type {\n",
       "        vertical-align: middle;\n",
       "    }\n",
       "\n",
       "    .dataframe tbody tr th {\n",
       "        vertical-align: top;\n",
       "    }\n",
       "\n",
       "    .dataframe thead th {\n",
       "        text-align: right;\n",
       "    }\n",
       "</style>\n",
       "<table border=\"1\" class=\"dataframe\">\n",
       "  <thead>\n",
       "    <tr style=\"text-align: right;\">\n",
       "      <th></th>\n",
       "      <th>Day of Дата продажи</th>\n",
       "      <th>Month of Дата вылета, локальная</th>\n",
       "      <th>Подгруппа рейсов</th>\n",
       "      <th>Каналы продаж (новый)</th>\n",
       "      <th>Состояние купона</th>\n",
       "      <th>Выручка, руб.</th>\n",
       "      <th>Количество пассажиросегментов</th>\n",
       "    </tr>\n",
       "  </thead>\n",
       "  <tbody>\n",
       "    <tr>\n",
       "      <th>0</th>\n",
       "      <td>2011-08-01</td>\n",
       "      <td>2010-08-01 00:00:00</td>\n",
       "      <td>OVB Far East</td>\n",
       "      <td>... Call Center</td>\n",
       "      <td>E</td>\n",
       "      <td>-37740.73</td>\n",
       "      <td>-2</td>\n",
       "    </tr>\n",
       "    <tr>\n",
       "      <th>1</th>\n",
       "      <td>2011-08-01</td>\n",
       "      <td>2010-09-01 00:00:00</td>\n",
       "      <td>OVB West</td>\n",
       "      <td>... Call Center</td>\n",
       "      <td>R</td>\n",
       "      <td>-1329.53</td>\n",
       "      <td>-1</td>\n",
       "    </tr>\n",
       "  </tbody>\n",
       "</table>\n",
       "</div>"
      ],
      "text/plain": [
       "  Day of Дата продажи Month of Дата вылета, локальная Подгруппа рейсов  \\\n",
       "0          2011-08-01             2010-08-01 00:00:00     OVB Far East   \n",
       "1          2011-08-01             2010-09-01 00:00:00         OVB West   \n",
       "\n",
       "  Каналы продаж (новый) Состояние купона  Выручка, руб.  \\\n",
       "0       ... Call Center                E      -37740.73   \n",
       "1       ... Call Center                R       -1329.53   \n",
       "\n",
       "   Количество пассажиросегментов  \n",
       "0                             -2  \n",
       "1                             -1  "
      ]
     },
     "execution_count": 128,
     "metadata": {},
     "output_type": "execute_result"
    }
   ],
   "source": [
    "df_2011.head(2)"
   ]
  },
  {
   "cell_type": "code",
   "execution_count": 129,
   "id": "75e383d2",
   "metadata": {},
   "outputs": [
    {
     "data": {
      "text/html": [
       "<div>\n",
       "<style scoped>\n",
       "    .dataframe tbody tr th:only-of-type {\n",
       "        vertical-align: middle;\n",
       "    }\n",
       "\n",
       "    .dataframe tbody tr th {\n",
       "        vertical-align: top;\n",
       "    }\n",
       "\n",
       "    .dataframe thead th {\n",
       "        text-align: right;\n",
       "    }\n",
       "</style>\n",
       "<table border=\"1\" class=\"dataframe\">\n",
       "  <thead>\n",
       "    <tr style=\"text-align: right;\">\n",
       "      <th></th>\n",
       "      <th>Day of Дата продажи</th>\n",
       "      <th>Month of Дата вылета, локальная</th>\n",
       "      <th>Подгруппа рейсов</th>\n",
       "      <th>Каналы продаж (новый)</th>\n",
       "      <th>Состояние купона</th>\n",
       "      <th>Выручка, руб.</th>\n",
       "      <th>Количество пассажиросегментов</th>\n",
       "    </tr>\n",
       "  </thead>\n",
       "  <tbody>\n",
       "    <tr>\n",
       "      <th>0</th>\n",
       "      <td>2012-08-01</td>\n",
       "      <td>2011-06-01 00:00:00</td>\n",
       "      <td>ASIA South East</td>\n",
       "      <td>OTA</td>\n",
       "      <td>E</td>\n",
       "      <td>-6182.87</td>\n",
       "      <td>-2</td>\n",
       "    </tr>\n",
       "    <tr>\n",
       "      <th>1</th>\n",
       "      <td>2012-08-01</td>\n",
       "      <td>2011-06-01 00:00:00</td>\n",
       "      <td>MOW Long</td>\n",
       "      <td>OTA</td>\n",
       "      <td>E</td>\n",
       "      <td>-6508.60</td>\n",
       "      <td>-2</td>\n",
       "    </tr>\n",
       "  </tbody>\n",
       "</table>\n",
       "</div>"
      ],
      "text/plain": [
       "  Day of Дата продажи Month of Дата вылета, локальная Подгруппа рейсов  \\\n",
       "0          2012-08-01             2011-06-01 00:00:00  ASIA South East   \n",
       "1          2012-08-01             2011-06-01 00:00:00         MOW Long   \n",
       "\n",
       "  Каналы продаж (новый) Состояние купона  Выручка, руб.  \\\n",
       "0                   OTA                E       -6182.87   \n",
       "1                   OTA                E       -6508.60   \n",
       "\n",
       "   Количество пассажиросегментов  \n",
       "0                             -2  \n",
       "1                             -2  "
      ]
     },
     "execution_count": 129,
     "metadata": {},
     "output_type": "execute_result"
    }
   ],
   "source": [
    "df_2012.head(2)"
   ]
  },
  {
   "cell_type": "code",
   "execution_count": 130,
   "id": "b8469116",
   "metadata": {},
   "outputs": [
    {
     "name": "stdout",
     "output_type": "stream",
     "text": [
      "<class 'pandas.core.frame.DataFrame'>\n",
      "RangeIndex: 142410 entries, 0 to 142409\n",
      "Data columns (total 7 columns):\n",
      " #   Column                           Non-Null Count   Dtype         \n",
      "---  ------                           --------------   -----         \n",
      " 0   Day of Дата продажи              142410 non-null  datetime64[ns]\n",
      " 1   Month of Дата вылета, локальная  142410 non-null  object        \n",
      " 2   Подгруппа рейсов                 142122 non-null  object        \n",
      " 3   Каналы продаж (новый)            142410 non-null  object        \n",
      " 4   Состояние купона                 142410 non-null  object        \n",
      " 5   Выручка, руб.                    142410 non-null  float64       \n",
      " 6   Количество пассажиросегментов    142410 non-null  int64         \n",
      "dtypes: datetime64[ns](1), float64(1), int64(1), object(4)\n",
      "memory usage: 7.6+ MB\n"
     ]
    }
   ],
   "source": [
    "df_2011.info()\n",
    "# Изначально данные во втором столбце в формате object, а не datetime64. Это связано с тем, что в столбце присутствуют\n",
    "# некорректные значения дат, где указан 5555 год. Для того, чтобы дальнейший анализ был корректным, приведу эти значения\n",
    "# к NaT. Таким образом получится поменять формат с object на datetime64 при этом не потеряв данные, хранящиеся в других столбцах.\n",
    "\n",
    "# Можно также не учитывать эти строки в дальнейшем анализе, но мне почему-то показалось, что это неправильно :)\n",
    "\n",
    "# Примечание: по сути, в строках из этого списка, где состояние купона = O, оно никогда не перейдет в N, так как значение \n",
    "# даты вылета ошибочно, если конечно не предусмотрен код как раз для случаев с некорректным годом вылета."
   ]
  },
  {
   "cell_type": "code",
   "execution_count": 131,
   "id": "a1be54d6",
   "metadata": {},
   "outputs": [
    {
     "name": "stdout",
     "output_type": "stream",
     "text": [
      "<class 'pandas.core.frame.DataFrame'>\n",
      "RangeIndex: 65055 entries, 0 to 65054\n",
      "Data columns (total 7 columns):\n",
      " #   Column                           Non-Null Count  Dtype         \n",
      "---  ------                           --------------  -----         \n",
      " 0   Day of Дата продажи              65055 non-null  datetime64[ns]\n",
      " 1   Month of Дата вылета, локальная  65055 non-null  object        \n",
      " 2   Подгруппа рейсов                 64933 non-null  object        \n",
      " 3   Каналы продаж (новый)            65055 non-null  object        \n",
      " 4   Состояние купона                 65055 non-null  object        \n",
      " 5   Выручка, руб.                    65055 non-null  float64       \n",
      " 6   Количество пассажиросегментов    65055 non-null  int64         \n",
      "dtypes: datetime64[ns](1), float64(1), int64(1), object(4)\n",
      "memory usage: 3.5+ MB\n"
     ]
    }
   ],
   "source": [
    "df_2012.info()"
   ]
  },
  {
   "cell_type": "code",
   "execution_count": 132,
   "id": "b3625e10",
   "metadata": {},
   "outputs": [],
   "source": [
    "df_2011.iloc[:, 1] = pd.to_datetime(df_2011.iloc[:, 1], errors='coerce')"
   ]
  },
  {
   "cell_type": "code",
   "execution_count": 133,
   "id": "067f6305",
   "metadata": {},
   "outputs": [
    {
     "data": {
      "text/html": [
       "<div>\n",
       "<style scoped>\n",
       "    .dataframe tbody tr th:only-of-type {\n",
       "        vertical-align: middle;\n",
       "    }\n",
       "\n",
       "    .dataframe tbody tr th {\n",
       "        vertical-align: top;\n",
       "    }\n",
       "\n",
       "    .dataframe thead th {\n",
       "        text-align: right;\n",
       "    }\n",
       "</style>\n",
       "<table border=\"1\" class=\"dataframe\">\n",
       "  <thead>\n",
       "    <tr style=\"text-align: right;\">\n",
       "      <th></th>\n",
       "      <th>Day of Дата продажи</th>\n",
       "      <th>Month of Дата вылета, локальная</th>\n",
       "      <th>Подгруппа рейсов</th>\n",
       "      <th>Каналы продаж (новый)</th>\n",
       "      <th>Состояние купона</th>\n",
       "      <th>Выручка, руб.</th>\n",
       "      <th>Количество пассажиросегментов</th>\n",
       "    </tr>\n",
       "  </thead>\n",
       "  <tbody>\n",
       "    <tr>\n",
       "      <th>816</th>\n",
       "      <td>2011-08-01</td>\n",
       "      <td>NaT</td>\n",
       "      <td>MOW Long</td>\n",
       "      <td>TA</td>\n",
       "      <td>R</td>\n",
       "      <td>26506.67</td>\n",
       "      <td>2</td>\n",
       "    </tr>\n",
       "    <tr>\n",
       "      <th>5725</th>\n",
       "      <td>2011-08-06</td>\n",
       "      <td>NaT</td>\n",
       "      <td>MOW Long</td>\n",
       "      <td>TA</td>\n",
       "      <td>E</td>\n",
       "      <td>-13253.33</td>\n",
       "      <td>-1</td>\n",
       "    </tr>\n",
       "  </tbody>\n",
       "</table>\n",
       "</div>"
      ],
      "text/plain": [
       "     Day of Дата продажи Month of Дата вылета, локальная Подгруппа рейсов  \\\n",
       "816           2011-08-01                             NaT         MOW Long   \n",
       "5725          2011-08-06                             NaT         MOW Long   \n",
       "\n",
       "     Каналы продаж (новый) Состояние купона  Выручка, руб.  \\\n",
       "816                     TA                R       26506.67   \n",
       "5725                    TA                E      -13253.33   \n",
       "\n",
       "      Количество пассажиросегментов  \n",
       "816                               2  \n",
       "5725                             -1  "
      ]
     },
     "execution_count": 133,
     "metadata": {},
     "output_type": "execute_result"
    }
   ],
   "source": [
    "nat_rows_2011 = df_2011[df_2011.iloc[:, 1].isna()]\n",
    "nat_rows_2011.head(2)"
   ]
  },
  {
   "cell_type": "code",
   "execution_count": 134,
   "id": "38eadbc4",
   "metadata": {},
   "outputs": [],
   "source": [
    "df_2012.iloc[:, 1] = pd.to_datetime(df_2012.iloc[:, 1], errors='coerce')"
   ]
  },
  {
   "cell_type": "code",
   "execution_count": 135,
   "id": "1a337650",
   "metadata": {},
   "outputs": [
    {
     "data": {
      "text/html": [
       "<div>\n",
       "<style scoped>\n",
       "    .dataframe tbody tr th:only-of-type {\n",
       "        vertical-align: middle;\n",
       "    }\n",
       "\n",
       "    .dataframe tbody tr th {\n",
       "        vertical-align: top;\n",
       "    }\n",
       "\n",
       "    .dataframe thead th {\n",
       "        text-align: right;\n",
       "    }\n",
       "</style>\n",
       "<table border=\"1\" class=\"dataframe\">\n",
       "  <thead>\n",
       "    <tr style=\"text-align: right;\">\n",
       "      <th></th>\n",
       "      <th>Day of Дата продажи</th>\n",
       "      <th>Month of Дата вылета, локальная</th>\n",
       "      <th>Подгруппа рейсов</th>\n",
       "      <th>Каналы продаж (новый)</th>\n",
       "      <th>Состояние купона</th>\n",
       "      <th>Выручка, руб.</th>\n",
       "      <th>Количество пассажиросегментов</th>\n",
       "    </tr>\n",
       "  </thead>\n",
       "  <tbody>\n",
       "    <tr>\n",
       "      <th>866</th>\n",
       "      <td>2012-08-01</td>\n",
       "      <td>NaT</td>\n",
       "      <td>MOW Long</td>\n",
       "      <td>... Call Center</td>\n",
       "      <td>E</td>\n",
       "      <td>-57960.00</td>\n",
       "      <td>-3</td>\n",
       "    </tr>\n",
       "    <tr>\n",
       "      <th>1916</th>\n",
       "      <td>2012-08-02</td>\n",
       "      <td>NaT</td>\n",
       "      <td>MOW Long</td>\n",
       "      <td>... Call Center</td>\n",
       "      <td>O</td>\n",
       "      <td>107613.33</td>\n",
       "      <td>4</td>\n",
       "    </tr>\n",
       "  </tbody>\n",
       "</table>\n",
       "</div>"
      ],
      "text/plain": [
       "     Day of Дата продажи Month of Дата вылета, локальная Подгруппа рейсов  \\\n",
       "866           2012-08-01                             NaT         MOW Long   \n",
       "1916          2012-08-02                             NaT         MOW Long   \n",
       "\n",
       "     Каналы продаж (новый) Состояние купона  Выручка, руб.  \\\n",
       "866        ... Call Center                E      -57960.00   \n",
       "1916       ... Call Center                O      107613.33   \n",
       "\n",
       "      Количество пассажиросегментов  \n",
       "866                              -3  \n",
       "1916                              4  "
      ]
     },
     "execution_count": 135,
     "metadata": {},
     "output_type": "execute_result"
    }
   ],
   "source": [
    "nat_rows_2012 = df_2012[df_2012.iloc[:, 1].isna()]\n",
    "nat_rows_2012.head(2)"
   ]
  },
  {
   "cell_type": "code",
   "execution_count": 136,
   "id": "f4bc2b10",
   "metadata": {},
   "outputs": [],
   "source": [
    "# Перехожу к анализу. "
   ]
  },
  {
   "cell_type": "code",
   "execution_count": 137,
   "id": "65b516a2",
   "metadata": {},
   "outputs": [],
   "source": [
    "# Рассчитаю доходную ставку"
   ]
  },
  {
   "cell_type": "code",
   "execution_count": 138,
   "id": "bdcdcc62",
   "metadata": {},
   "outputs": [
    {
     "data": {
      "text/plain": [
       "Day of Дата продажи\n",
       "8    3346.68\n",
       "9    3085.82\n",
       "10   2968.37\n",
       "11   2715.05\n",
       "Name: Доходная ставка за 2011 год по месяцам, dtype: float64"
      ]
     },
     "execution_count": 138,
     "metadata": {},
     "output_type": "execute_result"
    }
   ],
   "source": [
    "sales_by_month_2011 = df_2011.groupby(df_2011.iloc[:, 0].dt.month)['Выручка, руб.'].sum()\n",
    "segments_by_month_2011 = df_2011.groupby(df_2011.iloc[:, 0].dt.month)['Количество пассажиросегментов'].sum()\n",
    "income_rate_2011 = sales_by_month_2011 / segments_by_month_2011\n",
    "income_rate_2011 = income_rate_2011.round(2).rename('Доходная ставка за 2011 год по месяцам') # Сократил до двух знаков\n",
    "income_rate_2011"
   ]
  },
  {
   "cell_type": "code",
   "execution_count": 139,
   "id": "5c59c0a3",
   "metadata": {},
   "outputs": [
    {
     "data": {
      "text/plain": [
       "Day of Дата продажи\n",
       "8   4162.17\n",
       "9   3390.03\n",
       "Name: Доходная ставка за 2012 год по месяцам, dtype: float64"
      ]
     },
     "execution_count": 139,
     "metadata": {},
     "output_type": "execute_result"
    }
   ],
   "source": [
    "sales_by_month_2012 = df_2012.groupby(df_2012.iloc[:, 0].dt.month)['Выручка, руб.'].sum()\n",
    "segments_by_month_2012 = df_2012.groupby(df_2012.iloc[:, 0].dt.month)['Количество пассажиросегментов'].sum()\n",
    "income_rate_2012 = sales_by_month_2012 / segments_by_month_2012\n",
    "income_rate_2012 = income_rate_2012.round(2).rename('Доходная ставка за 2012 год по месяцам')\n",
    "income_rate_2012"
   ]
  },
  {
   "cell_type": "code",
   "execution_count": 140,
   "id": "e3eb6084",
   "metadata": {},
   "outputs": [],
   "source": [
    "months_2011 = ['Август', 'Сентябрь', 'Октябрь', 'Ноябрь']"
   ]
  },
  {
   "cell_type": "code",
   "execution_count": 141,
   "id": "a9c7b79f",
   "metadata": {},
   "outputs": [
    {
     "data": {
      "image/png": "[encoded data removed]",
      "text/plain": [
       "<Figure size 432x288 with 1 Axes>"
      ]
     },
     "metadata": {
      "needs_background": "light"
     },
     "output_type": "display_data"
    }
   ],
   "source": [
    "plt.bar(months_2011, income_rate_2011, color='skyblue', edgecolor='black')\n",
    "plt.axhline(y=2500, color='black', linestyle='--', zorder=0)\n",
    "plt.axhline(y=3000, color='black', linestyle='--', zorder=0)\n",
    "plt.title('Доходная ставка по месяцам, 2011 г.')\n",
    "plt.xlabel('Месяц', fontsize=12)\n",
    "plt.ylabel('Доходная ставка, руб', fontsize=12)\n",
    "plt.show()"
   ]
  },
  {
   "cell_type": "code",
   "execution_count": 142,
   "id": "392422d3",
   "metadata": {},
   "outputs": [],
   "source": [
    "months_2012=['Август', 'Сентябрь']"
   ]
  },
  {
   "cell_type": "code",
   "execution_count": 143,
   "id": "d28b9de6",
   "metadata": {},
   "outputs": [
    {
     "data": {
      "image/png": "[encoded data removed]",
      "text/plain": [
       "<Figure size 432x288 with 1 Axes>"
      ]
     },
     "metadata": {
      "needs_background": "light"
     },
     "output_type": "display_data"
    }
   ],
   "source": [
    "plt.bar(months_2012, income_rate_2012, color='lightgreen', edgecolor='black', width=0.4)\n",
    "plt.axhline(y=3500, color='black', linestyle='--', zorder=0)\n",
    "plt.axhline(y=4000, color='black', linestyle='--', zorder=0)\n",
    "plt.title('Доходная ставка по месяцам, 2012 г.')\n",
    "plt.xlabel('Месяц', fontsize=12)\n",
    "plt.ylabel('Доходная ставка, руб', fontsize=12)\n",
    "plt.show()"
   ]
  },
  {
   "cell_type": "code",
   "execution_count": 144,
   "id": "738f8972",
   "metadata": {},
   "outputs": [
    {
     "data": {
      "image/png": "[encoded data removed]",
      "text/plain": [
       "<Figure size 432x288 with 1 Axes>"
      ]
     },
     "metadata": {
      "needs_background": "light"
     },
     "output_type": "display_data"
    }
   ],
   "source": [
    "income_rate_2011_ch = income_rate_2011.drop([10, 11])\n",
    "months_2011_ch = ['Август', 'Сентябрь']\n",
    "plt.bar(months_2011_ch, income_rate_2011_ch, color='skyblue', edgecolor='black', width = -0.2, align ='edge', label='2011')\n",
    "plt.axhline(y=3000, color='black', linestyle='--', zorder=0)\n",
    "plt.axhline(y=3500, color='black', linestyle='--', zorder=0)\n",
    "plt.axhline(y=4000, color='black', linestyle='--', zorder=0)\n",
    "plt.title('Сравнение доходной ставки за 2011-2012 г.')\n",
    "plt.xlabel('Месяц', fontsize=12)\n",
    "plt.ylabel('Доходная ставка, руб', fontsize=12)\n",
    "plt.legend()\n",
    "plt.bar(months_2012, income_rate_2012, color='lightgreen', edgecolor='black', width = 0.2, align ='edge', label='2012')\n",
    "plt.legend()\n",
    "plt.show()"
   ]
  },
  {
   "cell_type": "code",
   "execution_count": 145,
   "id": "39e2a100",
   "metadata": {},
   "outputs": [],
   "source": [
    "# При необходимости могу построить более сложные графики, также имею опыт использования seaborn."
   ]
  },
  {
   "cell_type": "code",
   "execution_count": 146,
   "id": "511c5c95",
   "metadata": {},
   "outputs": [],
   "source": [
    "# Для более точного представления данных уберем экспоненту из результатов\n",
    "pd.set_option('display.float_format', '{:.2f}'.format)"
   ]
  },
  {
   "cell_type": "code",
   "execution_count": 147,
   "id": "d934d137",
   "metadata": {},
   "outputs": [],
   "source": [
    "# Визуал по дальнейшим шагам сделан в Tableau"
   ]
  },
  {
   "cell_type": "code",
   "execution_count": 148,
   "id": "9cdf3b95",
   "metadata": {},
   "outputs": [
    {
     "data": {
      "text/plain": [
       "Day of Дата продажи\n",
       "8    3932427591.87\n",
       "9    4098153234.93\n",
       "10   2875300757.47\n",
       "11   3319902449.27\n",
       "Name: Выручка, руб., dtype: float64"
      ]
     },
     "execution_count": 148,
     "metadata": {},
     "output_type": "execute_result"
    }
   ],
   "source": [
    "sales_by_month_2011"
   ]
  },
  {
   "cell_type": "code",
   "execution_count": 149,
   "id": "dba8086b",
   "metadata": {},
   "outputs": [
    {
     "data": {
      "text/plain": [
       "Day of Дата продажи\n",
       "8   6738753244.53\n",
       "9   5988043072.20\n",
       "Name: Выручка, руб., dtype: float64"
      ]
     },
     "execution_count": 149,
     "metadata": {},
     "output_type": "execute_result"
    }
   ],
   "source": [
    "sales_by_month_2012"
   ]
  },
  {
   "cell_type": "code",
   "execution_count": 150,
   "id": "61024b18",
   "metadata": {},
   "outputs": [
    {
     "data": {
      "text/plain": [
       "count            4.00\n",
       "mean    3556446008.38\n",
       "std      564127816.08\n",
       "min     2875300757.47\n",
       "25%     3208752026.32\n",
       "50%     3626165020.57\n",
       "75%     3973859002.63\n",
       "max     4098153234.93\n",
       "Name: Выручка, руб., dtype: float64"
      ]
     },
     "execution_count": 150,
     "metadata": {},
     "output_type": "execute_result"
    }
   ],
   "source": [
    "sales_by_month_2011.describe()"
   ]
  },
  {
   "cell_type": "code",
   "execution_count": 151,
   "id": "28e9adc7",
   "metadata": {},
   "outputs": [
    {
     "data": {
      "text/plain": [
       "count            2.00\n",
       "mean    6363398158.37\n",
       "std      530832253.56\n",
       "min     5988043072.20\n",
       "25%     6175720615.28\n",
       "50%     6363398158.37\n",
       "75%     6551075701.45\n",
       "max     6738753244.53\n",
       "Name: Выручка, руб., dtype: float64"
      ]
     },
     "execution_count": 151,
     "metadata": {},
     "output_type": "execute_result"
    }
   ],
   "source": [
    "sales_by_month_2012.describe()"
   ]
  },
  {
   "cell_type": "code",
   "execution_count": 152,
   "id": "a37591dd",
   "metadata": {},
   "outputs": [
    {
     "data": {
      "text/plain": [
       "Подгруппа рейсов\n",
       "ASIA Central          261285195.73\n",
       "ASIA China            -16214555.00\n",
       "ASIA South East      -152164838.93\n",
       "CODE SHARE              6344108.87\n",
       "EUROPE East          -129324968.73\n",
       "EUROPE Middle East    598698865.33\n",
       "EUROPE Western       -112469546.00\n",
       "MOW Center           2120400324.93\n",
       "MOW Long             3317299260.80\n",
       "MOW South            2989791099.87\n",
       "OVB Far East         1505249574.73\n",
       "OVB Sib              1434159915.53\n",
       "OVB West             2207013698.87\n",
       "Name: Выручка, руб., dtype: float64"
      ]
     },
     "execution_count": 152,
     "metadata": {},
     "output_type": "execute_result"
    }
   ],
   "source": [
    "# Анализ продаж по подгруппе рейсов\n",
    "subgroup_2011 = df_2011.groupby(df_2011.iloc[:, 2])['Выручка, руб.'].sum()\n",
    "subgroup_2011"
   ]
  },
  {
   "cell_type": "code",
   "execution_count": 153,
   "id": "1da7f1b0",
   "metadata": {},
   "outputs": [
    {
     "data": {
      "text/plain": [
       "count           13.00\n",
       "mean    1079236010.46\n",
       "std     1257335487.06\n",
       "min     -152164838.93\n",
       "25%      -16214555.00\n",
       "50%      598698865.33\n",
       "75%     2120400324.93\n",
       "max     3317299260.80\n",
       "Name: Выручка, руб., dtype: float64"
      ]
     },
     "execution_count": 153,
     "metadata": {},
     "output_type": "execute_result"
    }
   ],
   "source": [
    "subgroup_2011.describe()"
   ]
  },
  {
   "cell_type": "code",
   "execution_count": 154,
   "id": "9d570bce",
   "metadata": {},
   "outputs": [
    {
     "data": {
      "text/plain": [
       "Подгруппа рейсов\n",
       "ASIA Central         1184179648.40\n",
       "ASIA China              -481797.40\n",
       "ASIA South East        79350571.07\n",
       "CODE SHARE              2194732.87\n",
       "EUROPE East           409033973.60\n",
       "EUROPE Middle East    709990639.40\n",
       "EUROPE Western        205314119.73\n",
       "MOW Center           1597420650.47\n",
       "MOW Long             2274802067.07\n",
       "MOW South            1881966721.60\n",
       "OVB Far East         1143435005.07\n",
       "OVB Sib              1229985708.47\n",
       "OVB West             1950556391.47\n",
       "Name: Выручка, руб., dtype: float64"
      ]
     },
     "execution_count": 154,
     "metadata": {},
     "output_type": "execute_result"
    }
   ],
   "source": [
    "subgroup_2012 = df_2012.groupby(df_2012.iloc[:, 2])['Выручка, руб.'].sum()\n",
    "subgroup_2012"
   ]
  },
  {
   "cell_type": "code",
   "execution_count": 155,
   "id": "c0cfa2ba",
   "metadata": {},
   "outputs": [
    {
     "data": {
      "text/plain": [
       "count           13.00\n",
       "mean     974442187.06\n",
       "std      799551880.34\n",
       "min        -481797.40\n",
       "25%      205314119.73\n",
       "50%     1143435005.07\n",
       "75%     1597420650.47\n",
       "max     2274802067.07\n",
       "Name: Выручка, руб., dtype: float64"
      ]
     },
     "execution_count": 155,
     "metadata": {},
     "output_type": "execute_result"
    }
   ],
   "source": [
    "subgroup_2012.describe()"
   ]
  },
  {
   "cell_type": "code",
   "execution_count": 156,
   "id": "75dc6d69",
   "metadata": {},
   "outputs": [
    {
     "data": {
      "text/plain": [
       "Каналы продаж (новый)\n",
       "... Call Center        -8967400.87\n",
       "... MSE               798549040.33\n",
       "... Representative    433048037.80\n",
       "... Service           117120492.07\n",
       "... TMC                15812162.80\n",
       "... WWW              6382975586.87\n",
       "OTA                  1908238112.20\n",
       "TA                   3509621710.47\n",
       "TA Web-Based         1069386291.87\n",
       "Name: Выручка, руб., dtype: float64"
      ]
     },
     "execution_count": 156,
     "metadata": {},
     "output_type": "execute_result"
    }
   ],
   "source": [
    "# Анализ продаж в зависимости от канала\n",
    "canal_2011 = df_2011.groupby(df_2011.iloc[:, 3])['Выручка, руб.'].sum()\n",
    "canal_2011"
   ]
  },
  {
   "cell_type": "code",
   "execution_count": 157,
   "id": "6592d462",
   "metadata": {},
   "outputs": [
    {
     "data": {
      "text/plain": [
       "count            9.00\n",
       "mean    1580642670.39\n",
       "std     2127150652.44\n",
       "min       -8967400.87\n",
       "25%      117120492.07\n",
       "50%      798549040.33\n",
       "75%     1908238112.20\n",
       "max     6382975586.87\n",
       "Name: Выручка, руб., dtype: float64"
      ]
     },
     "execution_count": 157,
     "metadata": {},
     "output_type": "execute_result"
    }
   ],
   "source": [
    "canal_2011.describe()"
   ]
  },
  {
   "cell_type": "code",
   "execution_count": 158,
   "id": "b923d9f3",
   "metadata": {},
   "outputs": [
    {
     "data": {
      "text/plain": [
       "Каналы продаж (новый)\n",
       "... Call Center       123822463.80\n",
       "... MSE               796481428.40\n",
       "... Representative    388922216.20\n",
       "... Service            53338782.00\n",
       "... TMC                  500997.47\n",
       "... WWW              5748593830.00\n",
       "OTA                  1227477831.07\n",
       "TA                   3298222815.53\n",
       "TA Web-Based         1089435952.27\n",
       "Name: Выручка, руб., dtype: float64"
      ]
     },
     "execution_count": 158,
     "metadata": {},
     "output_type": "execute_result"
    }
   ],
   "source": [
    "canal_2012 = df_2012.groupby(df_2012.iloc[:, 3])['Выручка, руб.'].sum()\n",
    "canal_2012"
   ]
  },
  {
   "cell_type": "code",
   "execution_count": 159,
   "id": "15738e4f",
   "metadata": {},
   "outputs": [
    {
     "data": {
      "text/plain": [
       "count            9.00\n",
       "mean    1414088479.64\n",
       "std     1917849761.59\n",
       "min         500997.47\n",
       "25%      123822463.80\n",
       "50%      796481428.40\n",
       "75%     1227477831.07\n",
       "max     5748593830.00\n",
       "Name: Выручка, руб., dtype: float64"
      ]
     },
     "execution_count": 159,
     "metadata": {},
     "output_type": "execute_result"
    }
   ],
   "source": [
    "canal_2012.describe()"
   ]
  },
  {
   "cell_type": "code",
   "execution_count": 160,
   "id": "755ac96f",
   "metadata": {},
   "outputs": [
    {
     "data": {
      "text/plain": [
       "Day of Дата продажи  Каналы продаж (новый)\n",
       "8                    ... Call Center            4517010.87\n",
       "                     ... MSE                  214206865.13\n",
       "                     ... Representative       165575782.40\n",
       "                     ... Service               35276845.80\n",
       "                     ... TMC                    6345230.27\n",
       "                     ... WWW                 1686983230.33\n",
       "                     OTA                      606744456.73\n",
       "                     TA                       930020660.80\n",
       "                     TA Web-Based             282757509.53\n",
       "9                    ... Call Center           -4271912.87\n",
       "                     ... MSE                  200354948.27\n",
       "                     ... Representative       107643895.33\n",
       "                     ... Service               31920465.27\n",
       "                     ... TMC                    4348753.73\n",
       "                     ... WWW                 1929028906.47\n",
       "                     OTA                      520201795.40\n",
       "                     TA                      1022159773.13\n",
       "                     TA Web-Based             286766610.20\n",
       "10                   ... Call Center          -64292302.20\n",
       "                     ... MSE                  182597078.07\n",
       "                     ... Representative        80590540.80\n",
       "                     ... Service               27767769.87\n",
       "                     ... TMC                    2799279.47\n",
       "                     ... WWW                 1211623110.60\n",
       "                     OTA                      379289113.47\n",
       "                     TA                       804372573.67\n",
       "                     TA Web-Based             250553593.73\n",
       "11                   ... Call Center           55079803.33\n",
       "                     ... MSE                  201390148.87\n",
       "                     ... Representative        79237819.27\n",
       "                     ... Service               22155411.13\n",
       "                     ... TMC                    2318899.33\n",
       "                     ... WWW                 1555340339.47\n",
       "                     OTA                      402002746.60\n",
       "                     TA                       753068702.87\n",
       "                     TA Web-Based             249308578.40\n",
       "Name: Выручка, руб., dtype: float64"
      ]
     },
     "execution_count": 160,
     "metadata": {},
     "output_type": "execute_result"
    }
   ],
   "source": [
    "grouped_2011 = df_2011.groupby([df_2011.iloc[:, 0].dt.month, df_2011.iloc[:, 3]])\n",
    "canal_month_2011 = grouped_2011['Выручка, руб.'].sum()\n",
    "canal_month_2011"
   ]
  },
  {
   "cell_type": "code",
   "execution_count": 161,
   "id": "f54e6a04",
   "metadata": {},
   "outputs": [
    {
     "data": {
      "text/html": [
       "<div>\n",
       "<style scoped>\n",
       "    .dataframe tbody tr th:only-of-type {\n",
       "        vertical-align: middle;\n",
       "    }\n",
       "\n",
       "    .dataframe tbody tr th {\n",
       "        vertical-align: top;\n",
       "    }\n",
       "\n",
       "    .dataframe thead th {\n",
       "        text-align: right;\n",
       "    }\n",
       "</style>\n",
       "<table border=\"1\" class=\"dataframe\">\n",
       "  <thead>\n",
       "    <tr style=\"text-align: right;\">\n",
       "      <th></th>\n",
       "      <th>Day of Дата продажи</th>\n",
       "      <th>Каналы продаж (новый)</th>\n",
       "      <th>Выручка, руб.</th>\n",
       "    </tr>\n",
       "  </thead>\n",
       "  <tbody>\n",
       "    <tr>\n",
       "      <th>0</th>\n",
       "      <td>8</td>\n",
       "      <td>... Call Center</td>\n",
       "      <td>4517010.87</td>\n",
       "    </tr>\n",
       "    <tr>\n",
       "      <th>1</th>\n",
       "      <td>8</td>\n",
       "      <td>... MSE</td>\n",
       "      <td>214206865.13</td>\n",
       "    </tr>\n",
       "  </tbody>\n",
       "</table>\n",
       "</div>"
      ],
      "text/plain": [
       "   Day of Дата продажи Каналы продаж (новый)  Выручка, руб.\n",
       "0                    8       ... Call Center     4517010.87\n",
       "1                    8               ... MSE   214206865.13"
      ]
     },
     "execution_count": 161,
     "metadata": {},
     "output_type": "execute_result"
    }
   ],
   "source": [
    "c_m_ri_2011 = canal_month_2011.reset_index()\n",
    "c_m_ri_2011.head(2)"
   ]
  },
  {
   "cell_type": "code",
   "execution_count": 162,
   "id": "7cf9fb6d",
   "metadata": {},
   "outputs": [
    {
     "data": {
      "text/plain": [
       "Day of Дата продажи  Каналы продаж (новый)\n",
       "8                    ... Call Center           63664405.93\n",
       "                     ... MSE                  442074768.80\n",
       "                     ... Representative       224090209.93\n",
       "                     ... Service               31591176.87\n",
       "                     ... TMC                     275443.93\n",
       "                     ... WWW                 2988249744.20\n",
       "                     OTA                      646709583.33\n",
       "                     TA                      1786275234.33\n",
       "                     TA Web-Based             555822677.20\n",
       "9                    ... Call Center           60158057.87\n",
       "                     ... MSE                  354406659.60\n",
       "                     ... Representative       164832006.27\n",
       "                     ... Service               21747605.13\n",
       "                     ... TMC                     225553.53\n",
       "                     ... WWW                 2760344085.80\n",
       "                     OTA                      580768247.73\n",
       "                     TA                      1511947581.20\n",
       "                     TA Web-Based             533613275.07\n",
       "Name: Выручка, руб., dtype: float64"
      ]
     },
     "execution_count": 162,
     "metadata": {},
     "output_type": "execute_result"
    }
   ],
   "source": [
    "grouped_2012 = df_2012.groupby([df_2012.iloc[:, 0].dt.month, df_2012.iloc[:, 3]])\n",
    "canal_month_2012 = grouped_2012['Выручка, руб.'].sum()\n",
    "canal_month_2012"
   ]
  },
  {
   "cell_type": "code",
   "execution_count": 163,
   "id": "585ee302",
   "metadata": {},
   "outputs": [
    {
     "data": {
      "text/html": [
       "<div>\n",
       "<style scoped>\n",
       "    .dataframe tbody tr th:only-of-type {\n",
       "        vertical-align: middle;\n",
       "    }\n",
       "\n",
       "    .dataframe tbody tr th {\n",
       "        vertical-align: top;\n",
       "    }\n",
       "\n",
       "    .dataframe thead th {\n",
       "        text-align: right;\n",
       "    }\n",
       "</style>\n",
       "<table border=\"1\" class=\"dataframe\">\n",
       "  <thead>\n",
       "    <tr style=\"text-align: right;\">\n",
       "      <th></th>\n",
       "      <th>Day of Дата продажи</th>\n",
       "      <th>Каналы продаж (новый)</th>\n",
       "      <th>Выручка, руб.</th>\n",
       "    </tr>\n",
       "  </thead>\n",
       "  <tbody>\n",
       "    <tr>\n",
       "      <th>0</th>\n",
       "      <td>8</td>\n",
       "      <td>... Call Center</td>\n",
       "      <td>63664405.93</td>\n",
       "    </tr>\n",
       "    <tr>\n",
       "      <th>1</th>\n",
       "      <td>8</td>\n",
       "      <td>... MSE</td>\n",
       "      <td>442074768.80</td>\n",
       "    </tr>\n",
       "  </tbody>\n",
       "</table>\n",
       "</div>"
      ],
      "text/plain": [
       "   Day of Дата продажи Каналы продаж (новый)  Выручка, руб.\n",
       "0                    8       ... Call Center    63664405.93\n",
       "1                    8               ... MSE   442074768.80"
      ]
     },
     "execution_count": 163,
     "metadata": {},
     "output_type": "execute_result"
    }
   ],
   "source": [
    "c_m_ri_2012 = canal_month_2012.reset_index()\n",
    "c_m_ri_2012.head(2)"
   ]
  },
  {
   "cell_type": "code",
   "execution_count": 164,
   "id": "9e64daf7",
   "metadata": {},
   "outputs": [],
   "source": [
    "# Перегоняем полученные данные в Эксель для дальнейшей работы в Tableau\n",
    "sales_2011_xls = pd.DataFrame({'Месяц': sales_by_month_2011.index, 'Сумма продаж': sales_by_month_2011.values})\n",
    "sales_2011_xls.to_excel('data_Tableau.xlsx', index=False)"
   ]
  },
  {
   "cell_type": "code",
   "execution_count": 165,
   "id": "514fd6d9",
   "metadata": {},
   "outputs": [],
   "source": [
    "sales_2012_xls = pd.DataFrame({'Месяц': sales_by_month_2012.index, 'Сумма продаж': sales_by_month_2012.values})\n",
    "tableau_book=load_workbook('data_Tableau.xlsx')\n",
    "with pd.ExcelWriter('data_Tableau.xlsx', mode='a', engine='openpyxl') as writer:\n",
    "    writer.book = tableau_book\n",
    "    sales_2012_xls.to_excel(writer, sheet_name='Продажи по месяцам, 2012г.', index=False)"
   ]
  },
  {
   "cell_type": "code",
   "execution_count": 166,
   "id": "6d33802f",
   "metadata": {},
   "outputs": [],
   "source": [
    "subgroup_2011_xls = pd.DataFrame({'Подгруппа рейсов': subgroup_2011.index, 'Сумма продаж': subgroup_2011.values})\n",
    "tableau_book=load_workbook('data_Tableau.xlsx')\n",
    "with pd.ExcelWriter('data_Tableau.xlsx', mode='a', engine='openpyxl') as writer:\n",
    "    writer.book = tableau_book\n",
    "    subgroup_2011_xls.to_excel(writer, sheet_name='Подгруппа рейсов, 2011г.', index=False)"
   ]
  },
  {
   "cell_type": "code",
   "execution_count": 167,
   "id": "02147ca9",
   "metadata": {},
   "outputs": [],
   "source": [
    "subgroup_2012_xls = pd.DataFrame({'Подгруппа рейсов': subgroup_2012.index, 'Сумма продаж': subgroup_2012.values})\n",
    "tableau_book=load_workbook('data_Tableau.xlsx')\n",
    "with pd.ExcelWriter('data_Tableau.xlsx', mode='a', engine='openpyxl') as writer:\n",
    "    writer.book = tableau_book\n",
    "    subgroup_2012_xls.to_excel(writer, sheet_name='Подгруппа рейсов, 2012г.', index=False)"
   ]
  },
  {
   "cell_type": "code",
   "execution_count": 168,
   "id": "daee8482",
   "metadata": {},
   "outputs": [],
   "source": [
    "canal_2011_xls = pd.DataFrame({'Канал продажи': canal_2011.index, 'Сумма продаж': canal_2011.values})\n",
    "tableau_book=load_workbook('data_Tableau.xlsx')\n",
    "with pd.ExcelWriter('data_Tableau.xlsx', mode='a', engine='openpyxl') as writer:\n",
    "    writer.book = tableau_book\n",
    "    canal_2011_xls.to_excel(writer, sheet_name='Канал продажи, 2011г.', index=False)"
   ]
  },
  {
   "cell_type": "code",
   "execution_count": 169,
   "id": "59df7d82",
   "metadata": {},
   "outputs": [],
   "source": [
    "canal_2012_xls = pd.DataFrame({'Канал продажи': canal_2012.index, 'Сумма продаж': canal_2012.values})\n",
    "tableau_book=load_workbook('data_Tableau.xlsx')\n",
    "with pd.ExcelWriter('data_Tableau.xlsx', mode='a', engine='openpyxl') as writer:\n",
    "    writer.book = tableau_book\n",
    "    canal_2012_xls.to_excel(writer, sheet_name='Канал продажи, 2012г.', index=False)"
   ]
  },
  {
   "cell_type": "code",
   "execution_count": 170,
   "id": "39642e76",
   "metadata": {},
   "outputs": [],
   "source": [
    "c_m_ri_2011.to_excel('111.xlsx', index=False)"
   ]
  },
  {
   "cell_type": "code",
   "execution_count": 171,
   "id": "71a43df4",
   "metadata": {},
   "outputs": [],
   "source": [
    "c_m_ri_2012.to_excel('222.xlsx', index=False)"
   ]
  }
 ],
 "metadata": {
  "kernelspec": {
   "display_name": "Python 3 (ipykernel)",
   "language": "python",
   "name": "python3"
  },
  "language_info": {
   "codemirror_mode": {
    "name": "ipython",
    "version": 3
   },
   "file_extension": ".py",
   "mimetype": "text/x-python",
   "name": "python",
   "nbconvert_exporter": "python",
   "pygments_lexer": "ipython3",
   "version": "3.9.12"
  }
 },
 "nbformat": 4,
 "nbformat_minor": 5
}
