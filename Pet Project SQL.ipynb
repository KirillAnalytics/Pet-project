{
 "cells": [
  {
   "cell_type": "code",
   "execution_count": null,
   "id": "252fe33c",
   "metadata": {},
   "outputs": [],
   "source": [
    "# Представим, что мы работаем с PostgreSQL"
   ]
  },
  {
   "cell_type": "code",
   "execution_count": null,
   "id": "d360fd57",
   "metadata": {},
   "outputs": [],
   "source": [
    "import psycopg2"
   ]
  },
  {
   "cell_type": "code",
   "execution_count": null,
   "id": "5f2d0322",
   "metadata": {},
   "outputs": [],
   "source": [
    "# У нас есть словарь с доступами pg_access, для удобства и конфиденциальности\n",
    "# мы можем создать файл с переменной pg_access с раcширением .py\n",
    "# Допустим назовем его pass.py, откуда в дальнейшем при помощи команды\n",
    "# from pass import pg_access мы будем доставать этот словарь"
   ]
  },
  {
   "cell_type": "code",
   "execution_count": null,
   "id": "cbefc350",
   "metadata": {},
   "outputs": [],
   "source": [
    "pg_access = {\n",
    "    \"db_host\":\"178.111.222.333\",\n",
    "    \"db_name\":\"kirill\",\n",
    "    \"db_password\":\"petproject\",\n",
    "    \"db_port\":\"4321\",\n",
    "    \"db_user\":\"petproject\"\n",
    "}"
   ]
  },
  {
   "cell_type": "code",
   "execution_count": null,
   "id": "692bd4a9",
   "metadata": {},
   "outputs": [],
   "source": [
    "# Подключаемся к БД (Также можно подключиться и с помощью connection URL)\n",
    "connection = psycopg2.connect(\n",
    "database = pg_access['db_name'],\n",
    "user = pg_access['db_user'],\n",
    "password = pg_access['db_password'],\n",
    "host = pg_access['db_host'],\n",
    "port = pg_access['db_port']\n",
    ")"
   ]
  },
  {
   "cell_type": "code",
   "execution_count": null,
   "id": "e45c1677",
   "metadata": {},
   "outputs": [],
   "source": [
    "# Добавляем cursor\n",
    "cursor = connection.cursor()"
   ]
  },
  {
   "cell_type": "code",
   "execution_count": null,
   "id": "2f78c211",
   "metadata": {},
   "outputs": [],
   "source": [
    "# Представим, что наша таблица имеет такую структуру:\n",
    "# CREATE_TABLE candle_sales (\n",
    "# id SERIAL PRIMARY KEY,\n",
    "# candle_name VARCHAR(255),\n",
    "# price NUMERIC,\n",
    "# sale_date DATE);"
   ]
  },
  {
   "cell_type": "code",
   "execution_count": null,
   "id": "0248f17f",
   "metadata": {},
   "outputs": [],
   "source": [
    "# Выполняем дефолтный sql-запрос:\n",
    "cursor.execute(\"SELECT * FROM candle_sales\")"
   ]
  },
  {
   "cell_type": "code",
   "execution_count": null,
   "id": "ecacc187",
   "metadata": {},
   "outputs": [],
   "source": [
    "# Преобразовываем полученный результат в список кортежей, также данные можно вывести построчно с помощью цикла for in.\n",
    "rows = cursor.fetchall()"
   ]
  },
  {
   "cell_type": "code",
   "execution_count": null,
   "id": "e9406732",
   "metadata": {},
   "outputs": [],
   "source": [
    "# Передаем его в датафрейм\n",
    "import pandas as pd\n",
    "df = pd.DataFrame(rows, columns=[\"id\", \"candle_name\", \"price\", \"sale_date\"])\n",
    "df.head()"
   ]
  }
 ],
 "metadata": {
  "kernelspec": {
   "display_name": "Python 3 (ipykernel)",
   "language": "python",
   "name": "python3"
  },
  "language_info": {
   "codemirror_mode": {
    "name": "ipython",
    "version": 3
   },
   "file_extension": ".py",
   "mimetype": "text/x-python",
   "name": "python",
   "nbconvert_exporter": "python",
   "pygments_lexer": "ipython3",
   "version": "3.9.12"
  }
 },
 "nbformat": 4,
 "nbformat_minor": 5
}
